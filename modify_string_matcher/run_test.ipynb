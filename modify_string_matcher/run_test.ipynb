{
 "cells": [
  {
   "cell_type": "code",
   "execution_count": 23,
   "source": [
    "!pip install boto3"
   ],
   "outputs": [
    {
     "output_type": "stream",
     "name": "stdout",
     "text": [
      "Requirement already satisfied: boto3 in /home/philgun/.local/lib/python3.8/site-packages (1.20.46)\n",
      "Requirement already satisfied: jmespath<1.0.0,>=0.7.1 in /home/philgun/.local/lib/python3.8/site-packages (from boto3) (0.10.0)\n",
      "Requirement already satisfied: botocore<1.24.0,>=1.23.46 in /home/philgun/.local/lib/python3.8/site-packages (from boto3) (1.23.46)\n",
      "Requirement already satisfied: s3transfer<0.6.0,>=0.5.0 in /home/philgun/.local/lib/python3.8/site-packages (from boto3) (0.5.0)\n",
      "Requirement already satisfied: urllib3<1.27,>=1.25.4 in /usr/lib/python3/dist-packages (from botocore<1.24.0,>=1.23.46->boto3) (1.25.8)\n",
      "Requirement already satisfied: python-dateutil<3.0.0,>=2.1 in /usr/lib/python3/dist-packages (from botocore<1.24.0,>=1.23.46->boto3) (2.7.3)\n"
     ]
    }
   ],
   "metadata": {}
  },
  {
   "cell_type": "code",
   "execution_count": 2,
   "source": [
    "from import_db import *\n",
    "\n",
    "tables = get_tables(['transactions', 'transactions_staging', 'budget_categories'])\n",
    "ts = tables['transactions_staging']\n",
    "bc = tables['budget_categories']"
   ],
   "outputs": [],
   "metadata": {}
  },
  {
   "cell_type": "code",
   "execution_count": 3,
   "source": [
    "from string_matcher import *\n",
    "from data import *\n",
    "import pickle\n",
    "\n",
    "with open('./bc.pkl','wb') as f:\n",
    "    pickle.dump(bc,f)\n",
    "with open('./ts.pkl','wb') as f:\n",
    "    pickle.dump(ts,f)"
   ],
   "outputs": [],
   "metadata": {}
  },
  {
   "cell_type": "code",
   "execution_count": 12,
   "source": [
    "model = Preprocess(\n",
    "    ts[0:20]\n",
    ")\n",
    "model.transform()\n",
    "cat,uncat = model.run()\n",
    "print(cat)\n",
    "print(uncat)\n"
   ],
   "outputs": [
    {
     "output_type": "stream",
     "name": "stdout",
     "text": [
      "/home/philgun/sribuu/modify_string_matcher\n",
      "{'27714': '2', '27716': '2', '46084': '3', '6855': '19'}\n",
      "{'288556': ['redemptionbtb'], '27715': ['switching', 'cr', 'transfer', 'dr', 'idzharul', 'huda', 'internet', 'ba', 'switching cr', 'cr transfer', 'transfer dr', 'dr idzharul', 'idzharul huda', 'huda internet', 'internet ba'], '24144': ['bca', 'kiweon', 'hwang', 'autocr', 'pl', 'bca kiweon', 'kiweon hwang', 'hwang autocr', 'autocr pl'], '22394': ['transaksi', 'tgl', 'qr', 'laundryklin', 'cihamp', 'transaksi tgl', 'tgl qr', 'qr laundryklin', 'laundryklin cihamp'], '27712': ['jne', 'kp', 'setrassari', 'jne kp', 'kp setrassari'], '24143': ['transaksi', 'tgl', 'qr', 'laundryklin', 'cihamp', 'transaksi tgl', 'tgl qr', 'qr laundryklin', 'laundryklin cihamp'], '4742821': ['ftscyws'], '46086': ['nobook', 'set', 'awal', 'ktm', 'mulyana', 'mawardi', 'nobook set', 'set awal', 'awal ktm', 'ktm mulyana', 'mulyana mawardi'], '6854': ['atmb', 'cr', 'dcsdb', 'atb', 'atmb cr', 'cr dcsdb', 'dcsdb atb'], '6857': ['atmb', 'cr', 'dcsdb', 'atb', 'atmb cr', 'cr dcsdb', 'dcsdb atb'], '46085': ['sa', 'ob', 'ca', 'no', 'book', 'by', 'cetak', 'ktm', 'gnc', 'sa ob', 'ob ca', 'ca no', 'no book', 'book by', 'by cetak', 'cetak ktm', 'ktm gnc'], '46083': ['biaya', 'gagal', 'otomatis', 'dari', 'ke', 'biaya gagal', 'gagal otomatis', 'otomatis dari', 'dari ke'], '6853': ['db'], '6856': ['ve', 'vap', 've vap'], '6858': ['sa', 'monthly', 'monthly', 'card', 'charge', 'sa monthly', 'monthly monthly', 'monthly card', 'card charge']}\n"
     ]
    }
   ],
   "metadata": {}
  }
 ],
 "metadata": {
  "orig_nbformat": 4,
  "language_info": {
   "name": "python",
   "version": "3.8.10",
   "mimetype": "text/x-python",
   "codemirror_mode": {
    "name": "ipython",
    "version": 3
   },
   "pygments_lexer": "ipython3",
   "nbconvert_exporter": "python",
   "file_extension": ".py"
  },
  "kernelspec": {
   "name": "python3",
   "display_name": "Python 3.8.10 64-bit"
  },
  "interpreter": {
   "hash": "916dbcbb3f70747c44a77c7bcd40155683ae19c65e1c03b4aa3499c5328201f1"
  }
 },
 "nbformat": 4,
 "nbformat_minor": 2
}